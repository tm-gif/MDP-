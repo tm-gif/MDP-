{
 "cells": [
  {
   "cell_type": "code",
   "execution_count": 8,
   "metadata": {},
   "outputs": [],
   "source": [
    "import requests\n",
    "import csv\n",
    "from bs4 import BeautifulSoup\n",
    "import urllib\n",
    "#from urllib import urlopen\n",
    "import requests\n",
    "import pandas as pd\n",
    "from datetime import datetime\n",
    "import matplotlib as plt\n",
    "%matplotlib inline"
   ]
  },
  {
   "cell_type": "code",
   "execution_count": 9,
   "metadata": {},
   "outputs": [],
   "source": [
    "def get_url(position, location):\n",
    "    #https://www.indeed.com/jobs?q={}&l={}\n",
    "    template = 'https://www.indeed.com/jobs?q={}&l={}'\n",
    "    url = template.format(position, location)\n",
    "    return url"
   ]
  },
  {
   "cell_type": "code",
   "execution_count": 30,
   "metadata": {},
   "outputs": [],
   "source": [
    "url = get_url('software engineer entry level', 'new york')"
   ]
  },
  {
   "cell_type": "code",
   "execution_count": 31,
   "metadata": {},
   "outputs": [
    {
     "data": {
      "text/plain": [
       "<Response [200]>"
      ]
     },
     "execution_count": 31,
     "metadata": {},
     "output_type": "execute_result"
    }
   ],
   "source": [
    "response = requests.get(url)\n",
    "response # .reason to get why it might have failed, else 200 means success"
   ]
  },
  {
   "cell_type": "code",
   "execution_count": 32,
   "metadata": {},
   "outputs": [],
   "source": [
    "soup = BeautifulSoup(response.text, 'html.parser')\n",
    "cards = soup.find_all('div', 'jobsearch-SerpJobCard')\n",
    "#len(cards)\n"
   ]
  },
  {
   "cell_type": "code",
   "execution_count": 49,
   "metadata": {},
   "outputs": [],
   "source": [
    "card = cards[0]\n",
    "atag = card.h2.a\n",
    "job_title = atag.get('title')\n",
    "job_url = 'https://www.indeed.com' + atag.get('href')\n",
    "company = card.find('span','company').text.strip()\n",
    "job_location = card.find('div', 'recJobLoc').get('data-rc-loc')\n",
    "summary = card.find('div', 'summary').text.strip()\n",
    "post_date = card.find('span', 'date').text\n",
    "today = datetime.today().strftime('%Y-%m-%d')\n",
    "try:\n",
    "    job_salary = card.find('span', 'salaryText').text.strip()\n",
    "except AttributeError:\n",
    "    job_salary = ''"
   ]
  },
  {
   "cell_type": "code",
   "execution_count": 56,
   "metadata": {},
   "outputs": [],
   "source": [
    "def getRecord(card):\n",
    "    \"\"\"\"Extract job record from a single card\"\"\"\n",
    "    card = cards[0]\n",
    "    atag = card.h2.a\n",
    "    job_title = atag.get('title')\n",
    "    job_url = 'https://www.indeed.com' + atag.get('href')\n",
    "    company = card.find('span','company').text.strip()\n",
    "    job_location = card.find('div', 'recJobLoc').get('data-rc-loc')\n",
    "    summary = card.find('div', 'summary').text.strip()\n",
    "    post_date = card.find('span', 'date').text\n",
    "    today = datetime.today().strftime('%Y-%m-%d')\n",
    "    try:\n",
    "        job_salary = card.find('span', 'salaryText').text.strip()\n",
    "    except AttributeError:\n",
    "        job_salary = ''\n",
    "        \n",
    "    record = (job_title, company,  job_location, summary, post_date, today, job_url)\n",
    "    \n",
    "    return record"
   ]
  },
  {
   "cell_type": "code",
   "execution_count": 57,
   "metadata": {},
   "outputs": [
    {
     "data": {
      "text/plain": [
       "('Entry Level Software Engineer',\n",
       " 'Revature',\n",
       " 'New York, NY',\n",
       " 'College degree (Associates or Bachelors).\\nStrong desire to learn to code – No prior professional experience required.',\n",
       " '22 days ago',\n",
       " '2021-04-28',\n",
       " 'https://www.indeed.com/pagead/clk?mo=r&ad=-6NYlbfkN0BbIbu35rN4ToQZZxETN3tZlg0cK7iFEHC0AqmvhRxc6_RiK6STRcYZkgqa5FWJonWqtWZ4orh2fkNgXklSmv2WxWpFHfD_QpGBaZj-fnvuc5SZtpcCze1aZMQktMGLzm3tV0_9wr5FGZ5cZzLTINASGhNmoEAwXQHF6HQWQf2WzAnuzT36P55tPGE6IYG6lFNBZh8VBVvv4oOGFm_owbptexawoJO5xO_pzyjehHcFSRPX2-zMW0gdCjfnMEVB-VgdqYQqTuTt-jzeK6GHfSZlZhv_aJg2QYWQnFneWntEUYPLLJIC_1qXzejy2kRnXcjzGOShCTAB749GWbgCarY5GyeYKLvGM1QJ015Tdq0QULgayr6vS2grsOifENO4WoM2Rvk7lE-KSPkSnmJPN-CJE-CBX1VHwXYhmkf-6t0uQN9I-Z21L1gROz-WfU3WzRa74jhw8ewVKfJxqPMH3UXcV0x7olJfR7-_49rzvq00O7unBndkmy6Rt5BgMN010OOx-V5hVZBsiBKCCkkXKj4_6rlFMH4OmVU-UW6id1OQ4k6jMW873u01ze5Ad7-o74QgftB7mTqgsF-0XYw7_PM7uK8803RUHGY949a32m1OpqL6nu3UdB7RPd6R8wjRNHX9LvwNaVuiq-yx4RgtWC37pV5PfajC-iQYeEEUPWn1RQU2FjVOFwWUjUHI1hatRUPsbwmxUy2-UtEu0rVqT1PF5PUfaIW7y3Nookbv-In2AXl2cfTFx5uatLzLtM9mmUn4P-xNbnH7aT7DGXIUF3HFV6Hi32I3HlcwATXjNWvlb3sVVPyNSJbJvxCicPLaSNxrOnQ37aK99PkQaUQ3ExL0u9hwLdHILDZPNbSBYF3nh9PrUJ9eYiecOgbJYRAVf7194Z9Wh-rf1nKYqogENAP4-OHuqUANidp6Y945a3Cjp4j2tk8oO5DgGxrs8Bv5SmYxz1gtDgcJFrg1KjF3rdMZQBMlIjAHBJ9DST_zl6Ol4tF8fIBU4iSz&p=0&fvj=0&vjs=3')"
      ]
     },
     "execution_count": 57,
     "metadata": {},
     "output_type": "execute_result"
    }
   ],
   "source": [
    "records = []\n",
    "\n",
    "for card in cards:\n",
    "    record = getRecord(card)\n",
    "    records.append(record)\n",
    "    \n",
    "records[0]"
   ]
  },
  {
   "cell_type": "markdown",
   "metadata": {},
   "source": [
    "Get Next Page"
   ]
  },
  {
   "cell_type": "code",
   "execution_count": 86,
   "metadata": {},
   "outputs": [],
   "source": [
    "while True:\n",
    "    try:\n",
    "        url = 'https://indeed.com' + soup.find('a', {'aria-label': 'Next'}).get('href')\n",
    "    except AttributeError:\n",
    "        break\n",
    "    response = requests.get(url)\n",
    "    soup = BeautifulSoup(response.text, 'html.parser')\n",
    "    cards = soup.find_all('div', 'jobsearch-SerpJobCard')\n",
    "    \n",
    "    for card in cards:\n",
    "        record = getRecord(card)\n",
    "        records.append(record)"
   ]
  },
  {
   "cell_type": "markdown",
   "metadata": {},
   "source": [
    "# ALL TOGETHER"
   ]
  },
  {
   "cell_type": "code",
   "execution_count": 88,
   "metadata": {},
   "outputs": [],
   "source": [
    "import requests\n",
    "import csv\n",
    "from bs4 import BeautifulSoup\n",
    "import urllib\n",
    "#from urllib import urlopen\n",
    "import requests\n",
    "import pandas as pd\n",
    "from datetime import datetime\n",
    "import matplotlib as plt\n",
    "%matplotlib inline\n",
    "\n",
    "def get_url(position, location):\n",
    "    #https://www.indeed.com/jobs?q={}&l={}\n",
    "    template = 'https://www.indeed.com/jobs?q={}&l={}'\n",
    "    url = template.format(position, location)\n",
    "    return url\n",
    "\n",
    "def getRecord(card):\n",
    "    \"\"\"\"Extract job record from a single card\"\"\"\n",
    "    card = cards[0]\n",
    "    atag = card.h2.a\n",
    "    job_title = atag.get('title')\n",
    "    job_url = 'https://www.indeed.com' + atag.get('href')\n",
    "    company = card.find('span','company').text.strip()\n",
    "    job_location = card.find('div', 'recJobLoc').get('data-rc-loc')\n",
    "    summary = card.find('div', 'summary').text.strip()\n",
    "    post_date = card.find('span', 'date').text\n",
    "    today = datetime.today().strftime('%Y-%m-%d')\n",
    "    try:\n",
    "        job_salary = card.find('span', 'salaryText').text.strip()\n",
    "    except AttributeError:\n",
    "        job_salary = ''\n",
    "        \n",
    "    record = (job_title, company,  job_location, summary, post_date, today, job_url)\n",
    "    \n",
    "    return record\n",
    "\n",
    "def main(position, location):\n",
    "    records = []\n",
    "    url = get_url(position, location)\n",
    "    \n",
    "    #extract job data\n",
    "    while True:\n",
    "            response = requests.get(url)\n",
    "            soup = BeautifulSoup(response.text, 'html.parser')\n",
    "            cards = soup.find_all('div', 'jobsearch-SerpJobCard')\n",
    "\n",
    "            for card in cards:\n",
    "                record = getRecord(card)\n",
    "                records.append(record)\n",
    "    \n",
    "            try:\n",
    "                url = 'https://indeed.com' + soup.find('a', {'aria-label': 'Next'}).get('href')\n",
    "            except AttributeError:\n",
    "                break\n",
    "    \n",
    "    #save job data\n",
    "    with open('IndeedJobResults.csv', 'w', newline = '', encoding = 'utf-8') as f:\n",
    "        writer = csv.writer(f)\n",
    "        writer.writerow(['job_title', 'company',  'job_location', 'summary', 'post_date', 'today', 'job_url'])\n",
    "        writer.writerows(records)\n",
    "\n",
    "#Run Main Program\n",
    "\n"
   ]
  },
  {
   "cell_type": "code",
   "execution_count": 89,
   "metadata": {},
   "outputs": [],
   "source": [
    "main('software engineer entry level', 'new york')"
   ]
  },
  {
   "cell_type": "code",
   "execution_count": null,
   "metadata": {},
   "outputs": [],
   "source": []
  }
 ],
 "metadata": {
  "kernelspec": {
   "display_name": "Python 3",
   "language": "python",
   "name": "python3"
  },
  "language_info": {
   "codemirror_mode": {
    "name": "ipython",
    "version": 3
   },
   "file_extension": ".py",
   "mimetype": "text/x-python",
   "name": "python",
   "nbconvert_exporter": "python",
   "pygments_lexer": "ipython3",
   "version": "3.6.7"
  }
 },
 "nbformat": 4,
 "nbformat_minor": 2
}
