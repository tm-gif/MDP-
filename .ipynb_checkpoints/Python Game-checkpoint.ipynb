{
 "cells": [
  {
   "cell_type": "markdown",
   "metadata": {},
   "source": [
    "# Imports\n"
   ]
  },
  {
   "cell_type": "code",
   "execution_count": 147,
   "metadata": {},
   "outputs": [],
   "source": [
    "import numpy as np\n",
    "import pandas as pd\n",
    "import seaborn as sns\n",
    "import matplotlib.pyplot as plt\n",
    "import matplotlib as mpl\n",
    "from dateutil.parser import parse \n",
    "from rapidfuzz import process, fuzz\n",
    "# import nltk"
   ]
  },
  {
   "cell_type": "markdown",
   "metadata": {},
   "source": [
    "# MDP Game"
   ]
  },
  {
   "cell_type": "code",
   "execution_count": 135,
   "metadata": {
    "collapsed": true
   },
   "outputs": [
    {
     "name": "stdout",
     "output_type": "stream",
     "text": [
      "Decision Modeling MDP Choice Game\n",
      "===========================================\n",
      "Follow the prompted Instructions\n",
      "Please Select which state you would like to examine.\n",
      " Press 1 and hit enter to choose Education.\n",
      " Press 2 and hit enter to choose Skills1\n",
      "You have selected Education\n",
      "\n",
      "Which action would you like to take?\n",
      " A) Examine Another Section\n",
      " B) Accept the Candidate's Application\n",
      " C) Decline the Candidate's Application \n",
      "\n",
      "Enter A or B or C:\n",
      " \n",
      "Which action would you like to accomplish to the candidate's application? \n",
      " A) Accept\n",
      " B) Decline\n",
      " C) Review\n",
      " Enter A or B or C:a\n",
      "You have chosen to accept the candidate's application\n",
      "Accept\n",
      "[[1, 0, 0], [0, 0, 0]]\n",
      "do you want to restart Y/N?y\n",
      "NEW GAME\n",
      "Please Select which state you would like to examine.\n",
      " Press 1 and hit enter to choose Education.\n",
      " Press 2 and hit enter to choose Skills1\n",
      "You have selected Education\n",
      "\n",
      "Which action would you like to take?\n",
      " A) Examine Another Section\n",
      " B) Accept the Candidate's Application\n",
      " C) Decline the Candidate's Application \n",
      "\n",
      "Enter A or B or C:\n",
      " \n",
      "Which action would you like to accomplish to the candidate's application? \n",
      " A) Accept\n",
      " B) Decline\n",
      " C) Review\n",
      " Enter A or B or C:b\n",
      "You have chosen to decline the candidate's application\n",
      "Decline\n",
      "[[1, 1, 0], [0, 0, 0]]\n",
      "Please Select which state you would like to examine.\n",
      " Press 1 and hit enter to choose Education.\n",
      " Press 2 and hit enter to choose Skills1\n",
      "You have selected Education\n",
      "\n",
      "Which action would you like to take?\n",
      " A) Examine Another Section\n",
      " B) Accept the Candidate's Application\n",
      " C) Decline the Candidate's Application \n",
      "\n",
      "Enter A or B or C:\n",
      " \n",
      "Which action would you like to accomplish to the candidate's application? \n",
      " A) Accept\n",
      " B) Decline\n",
      " C) Review\n",
      " Enter A or B or C:a\n",
      "You have chosen to accept the candidate's application\n",
      "Accept\n",
      "[[2, 1, 0], [0, 0, 0]]\n",
      "do you want to restart Y/N?n\n",
      "GAME OVER\n",
      "states [[0], [0]]\n"
     ]
    }
   ],
   "source": [
    "\n",
    "rows = 2\n",
    "cols = 3\n",
    "grid = [[0 for i in range(cols)] for i in range(rows)] #2States x 3 Actions\n",
    "\n",
    "\n",
    "print(\"Decision Modeling MDP Choice Game\")\n",
    "print(\"===========================================\")\n",
    "print(\"Follow the prompted Instructions\")\n",
    "    \n",
    "def mdp_game():\n",
    "    state = int( input(\"Please Select which state you would like to examine.\\n Press 1 and hit enter to choose Education.\\n Press 2 and hit enter to choose Skills\") )\n",
    "    if( state == 1 ):\n",
    "        print(\"You have selected Education\")\n",
    "        \n",
    "        print(\"\\nWhich action would you like to take?\")\n",
    "        print(\" A) Examine Another Section\\n B) Accept the Candidate's Application\\n C) Decline the Candidate's Application \\n\\nEnter A or B or C:\\n \")\n",
    "\n",
    "        action = input(\"Which action would you like to accomplish to the candidate's application? \\n A) Accept\\n B) Decline\\n C) Review\\n Enter A or B or C:\")\n",
    "\n",
    "        if( action == ('A') or action == ('a')):\n",
    "            print(\"You have chosen to accept the candidate's application\")\n",
    "            print(\"Accept\")\n",
    "            \n",
    "            grid[0][0] += 1\n",
    "\n",
    "        elif( action == (\"B\") or action == (\"b\") ):\n",
    "            print( \"You have chosen to decline the candidate's application\" )\n",
    "            print(\"Decline\")\n",
    "           \n",
    "            grid[0][1] += 1\n",
    "            \n",
    "        elif( action == (\"C\") or action == (\"c\") ):\n",
    "            print( \"You have chosen to continue viewing the candidate's application\" )\n",
    "            print(\"Continue\")\n",
    "            grid[0][2] += 1\n",
    "            \n",
    "        else:\n",
    "            print(\"Invalid choice!\")\n",
    "\n",
    "        \n",
    "    elif( state == 2 ):\n",
    "        print( \"You have selected Skills\" )\n",
    "        \n",
    "        print(\"\\nWhich action would you like to take?\")\n",
    "        print(\" A) Examine Another Section\\n B) Accept the Candidate's Application\\n C) Decline the Candidate's Application \\n\\nEnter A or B or C:\\n \")\n",
    "\n",
    "        action = input(\"Which action would you like to accomplish to the candidate's application? \\n A) Accept\\n B) Decline\\n C) Review\\n Enter A or B or C:\")\n",
    "\n",
    "        if( action == ('A') or action == ('a')):\n",
    "            print(\"You have chosen to accept the candidate's application\")\n",
    "            print(\"Accept\")\n",
    "            \n",
    "            grid[1][0] += 1\n",
    "\n",
    "        elif( action == (\"B\") or action == (\"b\") ):\n",
    "            print( \"You have chosen to decline the candidate's application\" )\n",
    "            print(\"Decline\")\n",
    "            \n",
    "            grid[1][1] += 1\n",
    "            \n",
    "        elif( action == (\"C\") or action == (\"c\") ):\n",
    "            print( \"You have chosen to continue viewing the candidate's application\" )\n",
    "            print(\"Continue\")\n",
    "            grid[1][2] += 1\n",
    "            \n",
    "        else:\n",
    "            print(\"Invalid choice!\")\n",
    "    else:\n",
    "        print(\"Invalid choice!\")        \n",
    "\n",
    "\n",
    "\n",
    "while True:\n",
    "        mdp_game()\n",
    "        restart = input('do you want to restart Y/N?')\n",
    "        if restart == 'N' or restart == 'n':\n",
    "            print(\"GAME OVER\")\n",
    "            break\n",
    "        elif restart == 'Y' or restart == 'y':\n",
    "            print(\"NEW GAME\")\n",
    "            mdp_game()\n",
    "            \n",
    "print(\"StatesxActions Grid\", grid)\n"
   ]
  },
  {
   "cell_type": "markdown",
   "metadata": {},
   "source": [
    "## Visualizations\n"
   ]
  },
  {
   "cell_type": "markdown",
   "metadata": {},
   "source": [
    "### Heat Map"
   ]
  },
  {
   "cell_type": "code",
   "execution_count": 139,
   "metadata": {
    "collapsed": true
   },
   "outputs": [
    {
     "name": "stdout",
     "output_type": "stream",
     "text": [
      "           Accept  Reject  Continue\n",
      "Education       2       1         0\n",
      "Skills          0       0         0\n"
     ]
    },
    {
     "data": {
      "image/png": "[encoded data removed]",
      "text/plain": [
       "<Figure size 800x800 with 2 Axes>"
      ]
     },
     "metadata": {},
     "output_type": "display_data"
    }
   ],
   "source": [
    "data = grid\n",
    "\n",
    "length = max(map(len, states))\n",
    "y=np.array([xi+[None]*(length-len(xi)) for xi in states])\n",
    "\n",
    "df = pd.DataFrame(data=data,columns=['Accept','Reject','Continue'], index=['Education','Skills'])\n",
    "print(df)\n",
    "fig = plt.figure(num=None, figsize=(10, 10), dpi=80, facecolor='w', edgecolor='k')\n",
    "\n",
    "cmap = sns.cubehelix_palette(light=1, as_cmap=True)\n",
    "\n",
    "sns.set(font_scale=1.4)\n",
    "\n",
    "res = sns.heatmap(df, annot=True, vmin=0.0, vmax=1.0, \n",
    "                  fmt='.2f', cmap=cmap, cbar_kws={\"shrink\": .82},\n",
    "                  linewidths=0.1, linecolor='gray')\n",
    "\n",
    "res.invert_yaxis()\n",
    "\n",
    "plt.title('Seaborn heatmap - Hiring MDP Modeling')\n",
    "\n",
    "plt.savefig('seaborn_heatmap_mdp_model_size_04.png')              \n",
    "plt.show()"
   ]
  },
  {
   "cell_type": "markdown",
   "metadata": {},
   "source": [
    "### Node series"
   ]
  },
  {
   "cell_type": "code",
   "execution_count": 4,
   "metadata": {},
   "outputs": [
    {
     "name": "stdout",
     "output_type": "stream",
     "text": [
      "target  node A  node B  node F  node J  node M  node C  node Z\n",
      "source                                                        \n",
      "node A    0.00     0.0    5.56    0.00    3.28     0.0     0.0\n",
      "node B    0.00     0.0    1.13    0.64    0.00     0.0     0.0\n",
      "node F    0.00     0.5    0.00    0.00    0.00     0.0     0.0\n",
      "node J    0.00     0.0    0.00    0.00    0.00     0.0     0.0\n",
      "node M    0.00     0.0    0.00    0.00    0.00     0.0     0.0\n",
      "node C    0.00     0.0    0.00    0.00    0.50     0.0     0.0\n",
      "node Z    0.45     0.0    0.00    0.00    0.00     0.0     0.0\n",
      "[d3graph] >Error: networkx version should be >= 2.5.\n",
      "Try to: pip install -U networkx\n"
     ]
    },
    {
     "name": "stderr",
     "output_type": "stream",
     "text": [
      "/opt/conda/lib/python3.6/site-packages/sklearn/utils/validation.py:595: DataConversionWarning: Data with input dtype int64 was converted to float64 by MinMaxScaler.\n",
      "  warnings.warn(msg, DataConversionWarning)\n",
      "/opt/conda/lib/python3.6/site-packages/pandas/core/indexing.py:189: SettingWithCopyWarning: \n",
      "A value is trying to be set on a copy of a slice from a DataFrame\n",
      "\n",
      "See the caveats in the documentation: http://pandas.pydata.org/pandas-docs/stable/indexing.html#indexing-view-versus-copy\n",
      "  self._setitem_with_indexer(indexer, value)\n"
     ]
    },
    {
     "name": "stdout",
     "output_type": "stream",
     "text": [
      "Writing /home/jovyan/work/SPROJ_Folder/index.html\n",
      "[d3graph] >Error: networkx version should be >= 2.5.\n",
      "Try to: pip install -U networkx\n"
     ]
    },
    {
     "name": "stderr",
     "output_type": "stream",
     "text": [
      "/opt/conda/lib/python3.6/site-packages/sklearn/utils/validation.py:595: DataConversionWarning: Data with input dtype int64 was converted to float64 by MinMaxScaler.\n",
      "  warnings.warn(msg, DataConversionWarning)\n",
      "/opt/conda/lib/python3.6/site-packages/pandas/core/indexing.py:189: SettingWithCopyWarning: \n",
      "A value is trying to be set on a copy of a slice from a DataFrame\n",
      "\n",
      "See the caveats in the documentation: http://pandas.pydata.org/pandas-docs/stable/indexing.html#indexing-view-versus-copy\n",
      "  self._setitem_with_indexer(indexer, value)\n"
     ]
    },
    {
     "name": "stdout",
     "output_type": "stream",
     "text": [
      "Writing /home/jovyan/work/SPROJ_Folder/index.html\n",
      "[d3graph] >Error: networkx version should be >= 2.5.\n",
      "Try to: pip install -U networkx\n"
     ]
    },
    {
     "name": "stderr",
     "output_type": "stream",
     "text": [
      "/opt/conda/lib/python3.6/site-packages/sklearn/utils/validation.py:595: DataConversionWarning: Data with input dtype int64 was converted to float64 by MinMaxScaler.\n",
      "  warnings.warn(msg, DataConversionWarning)\n",
      "/opt/conda/lib/python3.6/site-packages/pandas/core/indexing.py:189: SettingWithCopyWarning: \n",
      "A value is trying to be set on a copy of a slice from a DataFrame\n",
      "\n",
      "See the caveats in the documentation: http://pandas.pydata.org/pandas-docs/stable/indexing.html#indexing-view-versus-copy\n",
      "  self._setitem_with_indexer(indexer, value)\n"
     ]
    },
    {
     "name": "stdout",
     "output_type": "stream",
     "text": [
      "Writing /home/jovyan/work/SPROJ_Folder/index.html\n",
      "[d3graph] >Error: networkx version should be >= 2.5.\n",
      "Try to: pip install -U networkx\n"
     ]
    },
    {
     "name": "stderr",
     "output_type": "stream",
     "text": [
      "/opt/conda/lib/python3.6/site-packages/sklearn/utils/validation.py:595: DataConversionWarning: Data with input dtype int64 was converted to float64 by MinMaxScaler.\n",
      "  warnings.warn(msg, DataConversionWarning)\n",
      "/opt/conda/lib/python3.6/site-packages/pandas/core/indexing.py:189: SettingWithCopyWarning: \n",
      "A value is trying to be set on a copy of a slice from a DataFrame\n",
      "\n",
      "See the caveats in the documentation: http://pandas.pydata.org/pandas-docs/stable/indexing.html#indexing-view-versus-copy\n",
      "  self._setitem_with_indexer(indexer, value)\n"
     ]
    },
    {
     "name": "stdout",
     "output_type": "stream",
     "text": [
      "Writing /home/jovyan/work/SPROJ_Folder/index.html\n",
      "[d3graph] >Error: networkx version should be >= 2.5.\n",
      "Try to: pip install -U networkx\n"
     ]
    },
    {
     "name": "stderr",
     "output_type": "stream",
     "text": [
      "/opt/conda/lib/python3.6/site-packages/sklearn/utils/validation.py:595: DataConversionWarning: Data with input dtype int64 was converted to float64 by MinMaxScaler.\n",
      "  warnings.warn(msg, DataConversionWarning)\n",
      "/opt/conda/lib/python3.6/site-packages/pandas/core/indexing.py:189: SettingWithCopyWarning: \n",
      "A value is trying to be set on a copy of a slice from a DataFrame\n",
      "\n",
      "See the caveats in the documentation: http://pandas.pydata.org/pandas-docs/stable/indexing.html#indexing-view-versus-copy\n",
      "  self._setitem_with_indexer(indexer, value)\n"
     ]
    },
    {
     "name": "stdout",
     "output_type": "stream",
     "text": [
      "Writing /home/jovyan/work/SPROJ_Folder/index.html\n",
      "[d3graph] >Error: networkx version should be >= 2.5.\n",
      "Try to: pip install -U networkx\n"
     ]
    },
    {
     "name": "stderr",
     "output_type": "stream",
     "text": [
      "/opt/conda/lib/python3.6/site-packages/sklearn/utils/validation.py:595: DataConversionWarning: Data with input dtype int64 was converted to float64 by MinMaxScaler.\n",
      "  warnings.warn(msg, DataConversionWarning)\n",
      "/opt/conda/lib/python3.6/site-packages/pandas/core/indexing.py:189: SettingWithCopyWarning: \n",
      "A value is trying to be set on a copy of a slice from a DataFrame\n",
      "\n",
      "See the caveats in the documentation: http://pandas.pydata.org/pandas-docs/stable/indexing.html#indexing-view-versus-copy\n",
      "  self._setitem_with_indexer(indexer, value)\n"
     ]
    },
    {
     "name": "stdout",
     "output_type": "stream",
     "text": [
      "Writing /home/jovyan/work/SPROJ_Folder/index.html\n",
      "[d3graph] >Error: networkx version should be >= 2.5.\n",
      "Try to: pip install -U networkx\n"
     ]
    },
    {
     "name": "stderr",
     "output_type": "stream",
     "text": [
      "/opt/conda/lib/python3.6/site-packages/sklearn/utils/validation.py:595: DataConversionWarning: Data with input dtype int64 was converted to float64 by MinMaxScaler.\n",
      "  warnings.warn(msg, DataConversionWarning)\n",
      "/opt/conda/lib/python3.6/site-packages/pandas/core/indexing.py:189: SettingWithCopyWarning: \n",
      "A value is trying to be set on a copy of a slice from a DataFrame\n",
      "\n",
      "See the caveats in the documentation: http://pandas.pydata.org/pandas-docs/stable/indexing.html#indexing-view-versus-copy\n",
      "  self._setitem_with_indexer(indexer, value)\n"
     ]
    },
    {
     "name": "stdout",
     "output_type": "stream",
     "text": [
      "Writing /home/jovyan/work/SPROJ_Folder/index.html\n"
     ]
    }
   ],
   "source": [
    "source = ['node A','node F','node B','node B','node B','node A','node C','node Z']\n",
    "target = ['node F','node B','node J','node F','node F','node M','node M','node A']\n",
    "weight = [5.56, 0.5, 0.64, 0.23, 0.9,3.28,0.5,0.45]\n",
    "\n",
    "# Import library\n",
    "from d3graph import d3graph, vec2adjmat\n",
    "\n",
    "# Convert to adjacency matrix\n",
    "adjmat = vec2adjmat(source, target, weight=weight)\n",
    "print(adjmat)\n",
    "# target  node A  node B  node F  node J  node M  node C  node Z\n",
    "# source                                                        \n",
    "# node A    0.00     0.0    5.56    0.00    3.28     0.0     0.0\n",
    "# node B    0.00     0.0    1.13    0.64    0.00     0.0     0.0\n",
    "# node F    0.00     0.5    0.00    0.00    0.00     0.0     0.0\n",
    "# node J    0.00     0.0    0.00    0.00    0.00     0.0     0.0\n",
    "# node M    0.00     0.0    0.00    0.00    0.00     0.0     0.0\n",
    "# node C    0.00     0.0    0.00    0.00    0.50     0.0     0.0\n",
    "# node Z    0.45     0.0    0.00    0.00    0.00     0.0     0.0\n",
    "\n",
    "# Example A: simple interactive network\n",
    "out = d3graph(adjmat)\n",
    "\n",
    "# Example B: Color nodes\n",
    "out = d3graph(adjmat, node_color=adjmat.columns.values)\n",
    "\n",
    "# Example C: include node size\n",
    "node_size = [10,20,10,10,15,10,5]\n",
    "out = d3graph(adjmat, node_color=adjmat.columns.values, node_size=node_size)\n",
    "\n",
    "# Example D: include node-edge-size\n",
    "out = d3graph(adjmat, node_color=adjmat.columns.values, node_size=node_size, node_size_edge=node_size[::-1], cmap='Set2')\n",
    "\n",
    "# Example E: include node-edge color\n",
    "out = d3graph(adjmat, node_color=adjmat.columns.values, node_size=node_size, node_size_edge=node_size[::-1], node_color_edge='#00FFFF')\n",
    "\n",
    "# Example F: Change colormap\n",
    "out = d3graph(adjmat, node_color=adjmat.columns.values, node_size=node_size, node_size_edge=node_size[::-1], node_color_edge='#00FFFF', cmap='Set2')\n",
    "\n",
    "# Example H: Include directed links. Arrows are set from source -> target\n",
    "out = d3graph(adjmat, node_color=adjmat.columns.values, node_size=node_size, node_size_edge=node_size[::-1], node_color_edge='#00FFFF', cmap='Set2', directed=True)"
   ]
  },
  {
   "cell_type": "code",
   "execution_count": null,
   "metadata": {},
   "outputs": [],
   "source": []
  },
  {
   "cell_type": "markdown",
   "metadata": {},
   "source": [
    "# Hamming Distance Attempt"
   ]
  },
  {
   "cell_type": "markdown",
   "metadata": {},
   "source": [
    "#### tokenize txt file"
   ]
  },
  {
   "cell_type": "code",
   "execution_count": 65,
   "metadata": {
    "collapsed": true
   },
   "outputs": [
    {
     "name": "stdout",
     "output_type": "stream",
     "text": [
      "['We', 'are', 'actively', 'looking', 'for', 'more', 'colleagues', 'to', 'join', 'us', 'in', 'creating', 'the', 'world’s', 'best', 'geospatial', 'mapping', 'and', 'data', 'analysis', 'platform.', 'As', 'a', 'platform', 'that', 'serves', 'millions', 'of', 'users', 'and', 'domains,', 'our', 'software', 'needs', 'to', 'be', 'modular,', 'reusable,', 'and', 'well', 'crafted.', 'We', 'iterate', 'rapidly,', 'constantly', 'learning', 'from', 'feedback,', 'metrics,', 'and', 'the', 'mission', 'and', 'goals', 'of', 'our', 'broad', 'user', 'community.', 'Build', 'C++', 'software', 'components', 'that', 'follow', 'industry-standard', 'design', 'patterns,', 'development', 'methodologies,', 'and', 'deployment', 'models.', 'Work', 'closely', 'with', 'product', 'engineers', 'to', 'implement', 'requirements', 'and', 'create', 'application', 'architectures', 'and', 'API', 'to', 'meet', 'product', 'goals.', 'Design', 'and', 'develop', 'stable', 'software', 'that', 'includes', 'automated', 'test', 'validation.', 'Develop', 'reusable', 'components', 'and', 'libraries', 'for', 'use', 'internally', 'and', 'as', 'open', 'source.', 'Strong', 'knowledge', 'of', 'C++', '(STL,', 'C++', '11,', 'Boost)', 'C#', 'Understanding', 'of', 'algorithms,', 'data', 'structures,', 'and', 'design', 'patterns', 'Knowledge', 'of', 'Agile', 'development', 'methodologies', 'and', 'test-driven', 'development', 'processes', 'Experience', 'developing', 'software', 'that', 'runs', 'on', 'a', 'server', 'or', 'on', 'the', 'cloud', 'Experience', 'with', 'application', 'scripting', 'languages', '(e.g.,', 'Python,', 'JavaScript)', 'and', 'web', 'protocols', 'and', 'formats', 'such', 'as', 'REST', 'and', 'JSON']\n"
     ]
    }
   ],
   "source": [
    "#print split_job    \n",
    "f = open('JobDesc.txt', 'r')\n",
    "\n",
    "data = f.read()\n",
    "split_job = data.split()\n",
    "split_job[:] = (value for value in split_job if value != '\\t')\n",
    "\n",
    "print(split_job)\n"
   ]
  },
  {
   "cell_type": "code",
   "execution_count": 66,
   "metadata": {
    "collapsed": true
   },
   "outputs": [
    {
     "name": "stdout",
     "output_type": "stream",
     "text": [
      "['MICHELE', 'JONES', 'michelejones@gmail.com', 'github.io/__michj__', 'Cleveland,', 'OH', 'Software', 'Intern', 'Renaud', 'Hyderabad,', 'India', 'Renaud', 'is', 'an', 'information', 'technology', 'company', 'which', 'develops', 'and', 'provided', 'E-Commerce', 'Solutions', 'Contributed', 'to', 'development', 'of', '3', 'projects', 'using', 'python', 'and', 'Django', 'Worked', 'as', 'Java', 'developer', 'for', '6', 'months', 'in', 'FranConnect', 'franchise', 'project.', 'Debugged', 'a', 'long', 'pending', 'Auto-login', 'issue', 'in', 'GUI', 'for', 'regression', 'platform', 'on', 'day', '1', 'Decommissioned', 'over', '3', 'different', 'types', 'of', 'applications', 'including', 'support', 'for', 'legal', 'hold.', 'Software', 'Intern', 'Schmeler', 'Cleveland,', 'OH', 'Schmeler', 'is', 'movie', 'ticketing', 'website.', 'Created', 'tools', 'to', 'standardize', 'and', 'simplify', 'work', 'processes', 'for', 'Aspire', '400.', 'Taught', 'Python', 'and', 'Django', 'to', 'the', 'batch', 'of', '28', 'students', 'in', 'a', 'project', 'based', 'learning', 'environment.', 'Developed', 'a', 'Industry', 'Foundation', 'Classes', 'Parser', 'for', 'generating', '3D', 'Graphics', 'using', 'c++', 'Coding', 'JavaC#JavascriptPythonPHPDjango', 'Project', 'management', 'TrelloJira', 'Embedded', 'Systems', 'Cross', 'CompilationKernel', 'Hacking', 'BSBC', 'Computer', 'Science', 'Cleveland', 'State', 'University', 'Coursework', 'in', 'Data', 'Structures', '&', 'Algorithms', 'Designed', 'a', 'project', 'management', '&', 'learning', 'environment', 'for', 'a', 'class', 'of', '40', 'students', 'Award', 'for', 'Upcoming', 'SoftHero', 'for', '2018', 'The', 'Chef', 'https://github.com/---/TheChef', 'Graduation', 'Project', 'The', 'Chef', 'is', 'a', 'mobile', 'application', 'which', 'is', 'developed', 'in', 'Android', 'Studio', 'in', 'Java.', 'The', 'Chef', 'is', 'a', 'handbook', 'of', 'the', 'recipes.', 'The', 'Chef', 'is', 'the', 'application', 'which', 'shows', 'the', 'recipes', 'including', 'the', 'ingredients', 'of', \"user's\", 'selection.', 'It', 'gave', 'me', 'a', 'great', 'graduation', 'score', '(95/100)', 'and', 'a', 'reference', 'letter', 'by', 'my', 'professor.', 'Finance', 'Tool', 'for', 'Amateur', 'Sport', 'Clubs', 'https://github.com/---/CRMFinanceSoftware', 'Financial', 'CRM', 'Software', 'Project', '-', 'Developed', 'at', 'Code', 'Academy', 'The', 'project', 'is', 'a', 'Financial', 'CRM', 'Software', 'which', 'is', 'developed', 'for', 'Amateur', 'Sport', 'Clubs', 'to', 'have', 'the', 'controls', 'on', 'finance', '(expenses', '&', 'incomes).', 'The', 'CRM', 'Project', 'is', 'a', 'Windows', 'Form', 'Project', 'which', 'is', 'developed', 'in', 'C#', 'with', 'the', 'technology', 'of', 'Entity', 'Framework', 'and', 'the', 'approach', 'of', 'N-Tier', 'Architecture.', 'Currently', 'working', 'on', 'platform', 'change', 'to', 'the', 'technology', 'of', 'ASP.NET', 'MVC', '5.', 'www.enhancv.com', 'Remove', 'branding']\n"
     ]
    }
   ],
   "source": [
    "# print split_resume     \n",
    "d = open('ResumeSample.txt', 'r')\n",
    "\n",
    "data = d.read()\n",
    "split_resume = data.split()\n",
    "split_resume[:] = (value for value in split_resume if value != '\\t')\n",
    "print(split_resume)\n"
   ]
  },
  {
   "cell_type": "markdown",
   "metadata": {},
   "source": [
    "### Remove stop words from tokenized texts"
   ]
  },
  {
   "cell_type": "code",
   "execution_count": null,
   "metadata": {},
   "outputs": [],
   "source": [
    "from nltk.corpus import stopwords\n",
    "nltk.download('stopwords')\n",
    "from nltk.tokenize import word_tokenize\n",
    "\n",
    "text_tokens = split_resume\n",
    "#word_tokenize(text)\n",
    "\n",
    "tokens_without_sw1 = [word for word in text_tokens if not word in stopwords.words()]\n",
    "\n",
    "print(tokens_without_sw1)"
   ]
  },
  {
   "cell_type": "code",
   "execution_count": null,
   "metadata": {},
   "outputs": [],
   "source": [
    "from nltk.corpus import stopwords\n",
    "nltk.download('stopwords')\n",
    "from nltk.tokenize import word_tokenize\n",
    "\n",
    "\n",
    "text_tokens = split_job\n",
    "#word_tokenize(text)\n",
    "\n",
    "tokens_without_sw = [word for word in text_tokens if not word in stopwords.words()]\n",
    "\n",
    "print(tokens_without_sw)"
   ]
  },
  {
   "cell_type": "markdown",
   "metadata": {},
   "source": [
    "#### Calculate Hamming dist"
   ]
  },
  {
   "cell_type": "code",
   "execution_count": null,
   "metadata": {},
   "outputs": [],
   "source": [
    "from itertools import zip_longest\n",
    "\n",
    "def hamming_distance(s1, s2):\n",
    "    return sum(c1 != c2 for c1, c2 in zip_longest(s1, s2))\n",
    "\n",
    "hamming_distance(split_resume, split_job)  # 2"
   ]
  },
  {
   "cell_type": "markdown",
   "metadata": {},
   "source": []
  },
  {
   "cell_type": "code",
   "execution_count": 67,
   "metadata": {},
   "outputs": [
    {
     "name": "stdout",
     "output_type": "stream",
     "text": [
      "String are not equal\n"
     ]
    },
    {
     "data": {
      "text/plain": [
       "0"
      ]
     },
     "execution_count": 67,
     "metadata": {},
     "output_type": "execute_result"
    }
   ],
   "source": [
    "def hamming(s1,s2):\n",
    "    result=0\n",
    "    if len(s1)!=len(s2):\n",
    "        print(\"String are not equal\")\n",
    "    else:\n",
    "        for x,(i,j) in enumerate(zip(s1,s2)):\n",
    "            if i!=j:\n",
    "                print(f'char not match{i,j}in {x}')\n",
    "                result+=1\n",
    "    return result\n",
    "s1= split_job\n",
    "s2= split_resume\n",
    "\n",
    "hamming(s1,s2)\n"
   ]
  },
  {
   "cell_type": "code",
   "execution_count": 70,
   "metadata": {
    "collapsed": true
   },
   "outputs": [
    {
     "name": "stdout",
     "output_type": "stream",
     "text": [
      "and\n",
      "to\n",
      "development\n",
      "of\n",
      "and\n",
      "as\n",
      "for\n",
      "in\n",
      "a\n",
      "in\n",
      "for\n",
      "platform\n",
      "on\n",
      "of\n",
      "for\n",
      "to\n",
      "and\n",
      "processes\n",
      "for\n",
      "and\n",
      "to\n",
      "the\n",
      "of\n",
      "in\n",
      "a\n",
      "learning\n",
      "a\n",
      "for\n",
      "in\n",
      "a\n",
      "learning\n",
      "for\n",
      "a\n",
      "of\n",
      "for\n",
      "for\n",
      "a\n",
      "application\n",
      "in\n",
      "in\n",
      "a\n",
      "of\n",
      "the\n",
      "the\n",
      "application\n",
      "the\n",
      "the\n",
      "of\n",
      "a\n",
      "and\n",
      "a\n",
      "for\n",
      "a\n",
      "for\n",
      "to\n",
      "the\n",
      "on\n",
      "a\n",
      "in\n",
      "C#\n",
      "with\n",
      "the\n",
      "of\n",
      "and\n",
      "the\n",
      "of\n",
      "on\n",
      "platform\n",
      "to\n",
      "the\n",
      "of\n"
     ]
    }
   ],
   "source": [
    "#Eprints all key words in both job and resume\n",
    "for i in split_resume:\n",
    "    if i in split_job:\n",
    "        print(i)"
   ]
  },
  {
   "cell_type": "code",
   "execution_count": 156,
   "metadata": {},
   "outputs": [
    {
     "data": {
      "text/plain": [
       "212"
      ]
     },
     "execution_count": 156,
     "metadata": {},
     "output_type": "execute_result"
    }
   ],
   "source": [
    "from itertools import zip_longest\n",
    "\n",
    "def hamming_distance(s1, s2):\n",
    "    return sum(c1 != c2 for c1, c2 in zip_longest(s1, s2))\n",
    "\n",
    "hamming_distance(tokens_without_sw, tokens_without_sw1)  # 2\n"
   ]
  },
  {
   "cell_type": "code",
   "execution_count": 155,
   "metadata": {
    "collapsed": true
   },
   "outputs": [
    {
     "name": "stdout",
     "output_type": "stream",
     "text": [
      "development\n",
      "platform\n",
      "processes\n",
      "learning\n",
      "application\n",
      "C#\n",
      "SW1: \n",
      " ['MICHELE', 'JONES', 'michelejones@gmail.com', 'github.io/__michj__', 'Cleveland,', 'OH', 'Software', 'Intern', 'Renaud', 'Hyderabad,', 'India', 'Renaud', 'information', 'technology', 'company', 'develops', 'provided', 'E-Commerce', 'Solutions', 'Contributed', 'development', '3', 'projects', 'using', 'python', 'Django', 'Worked', 'Java', 'developer', '6', 'months', 'FranConnect', 'franchise', 'project.', 'Debugged', 'long', 'pending', 'Auto-login', 'issue', 'GUI', 'regression', 'platform', 'day', '1', 'Decommissioned', '3', 'different', 'types', 'applications', 'including', 'support', 'legal', 'hold.', 'Software', 'Intern', 'Schmeler', 'Cleveland,', 'OH', 'Schmeler', 'movie', 'ticketing', 'website.', 'Created', 'tools', 'standardize', 'simplify', 'work', 'processes', 'Aspire', '400.', 'Taught', 'Python', 'Django', 'batch', '28', 'students', 'project', 'based', 'learning', 'environment.', 'Developed', 'Industry', 'Foundation', 'Classes', 'Parser', 'generating', '3D', 'Graphics', 'using', 'c++', 'Coding', 'JavaC#JavascriptPythonPHPDjango', 'Project', 'management', 'TrelloJira', 'Embedded', 'Systems', 'Cross', 'CompilationKernel', 'Hacking', 'BSBC', 'Computer', 'Science', 'Cleveland', 'State', 'University', 'Coursework', 'Data', 'Structures', '&', 'Algorithms', 'Designed', 'project', 'management', '&', 'learning', 'environment', 'class', '40', 'students', 'Award', 'Upcoming', 'SoftHero', '2018', 'The', 'Chef', 'https://github.com/---/TheChef', 'Graduation', 'Project', 'The', 'Chef', 'mobile', 'application', 'developed', 'Android', 'Studio', 'Java.', 'The', 'Chef', 'handbook', 'recipes.', 'The', 'Chef', 'application', 'shows', 'recipes', 'including', 'ingredients', \"user's\", 'selection.', 'It', 'gave', 'great', 'graduation', 'score', '(95/100)', 'reference', 'letter', 'professor.', 'Finance', 'Tool', 'Amateur', 'Sport', 'Clubs', 'https://github.com/---/CRMFinanceSoftware', 'Financial', 'CRM', 'Software', 'Project', '-', 'Developed', 'Code', 'Academy', 'The', 'project', 'Financial', 'CRM', 'Software', 'developed', 'Amateur', 'Sport', 'Clubs', 'controls', 'finance', '(expenses', '&', 'incomes).', 'The', 'CRM', 'Project', 'Windows', 'Form', 'Project', 'developed', 'C#', 'technology', 'Entity', 'Framework', 'approach', 'N-Tier', 'Architecture.', 'Currently', 'working', 'platform', 'change', 'technology', 'ASP.NET', 'MVC', '5.', 'www.enhancv.com', 'Remove', 'branding']\n",
      "SW: \n",
      " ['We', 'actively', 'looking', 'colleagues', 'join', 'us', 'creating', 'world’s', 'best', 'geospatial', 'mapping', 'data', 'analysis', 'platform.', 'As', 'platform', 'serves', 'millions', 'users', 'domains,', 'software', 'needs', 'modular,', 'reusable,', 'well', 'crafted.', 'We', 'iterate', 'rapidly,', 'constantly', 'learning', 'feedback,', 'metrics,', 'mission', 'goals', 'broad', 'user', 'community.', 'Build', 'C++', 'software', 'components', 'follow', 'industry-standard', 'design', 'patterns,', 'development', 'methodologies,', 'deployment', 'models.', 'Work', 'closely', 'product', 'engineers', 'implement', 'requirements', 'create', 'application', 'architectures', 'API', 'meet', 'product', 'goals.', 'Design', 'develop', 'stable', 'software', 'includes', 'automated', 'test', 'validation.', 'Develop', 'reusable', 'components', 'libraries', 'use', 'internally', 'open', 'source.', 'Strong', 'knowledge', 'C++', '(STL,', 'C++', '11,', 'Boost)', 'C#', 'Understanding', 'algorithms,', 'data', 'structures,', 'design', 'patterns', 'Knowledge', 'Agile', 'development', 'methodologies', 'test-driven', 'development', 'processes', 'Experience', 'developing', 'software', 'runs', 'server', 'cloud', 'Experience', 'application', 'scripting', 'languages', '(e.g.,', 'Python,', 'JavaScript)', 'web', 'protocols', 'formats', 'REST', 'JSON']\n"
     ]
    }
   ],
   "source": [
    "#Word with stop words removed from tokens and duplicates also removed\n",
    "res = []\n",
    "for i in tokens_without_sw1:\n",
    "    if i in tokens_without_sw:\n",
    "        if i not in res:\n",
    "            res.append(i)\n",
    "            print(i)\n",
    "            \n",
    "print(\"SW1: \\n\",tokens_without_sw1 )\n",
    "print(\"SW: \\n\",tokens_without_sw )"
   ]
  },
  {
   "cell_type": "code",
   "execution_count": 158,
   "metadata": {},
   "outputs": [
    {
     "data": {
      "text/plain": [
       "2.424242424242422"
      ]
     },
     "execution_count": 158,
     "metadata": {},
     "output_type": "execute_result"
    }
   ],
   "source": [
    "#fuzz.ratio(tokens_without_sw1, tokens_without_sw)\n",
    "fuzz.token_set_ratio(tokens_without_sw1, tokens_without_sw)"
   ]
  },
  {
   "cell_type": "code",
   "execution_count": null,
   "metadata": {},
   "outputs": [],
   "source": []
  },
  {
   "cell_type": "markdown",
   "metadata": {},
   "source": [
    "# MDP Background Sim"
   ]
  },
  {
   "cell_type": "markdown",
   "metadata": {},
   "source": [
    "This code is responsible for simulating "
   ]
  },
  {
   "cell_type": "code",
   "execution_count": null,
   "metadata": {},
   "outputs": [],
   "source": []
  },
  {
   "cell_type": "code",
   "execution_count": null,
   "metadata": {},
   "outputs": [],
   "source": []
  },
  {
   "cell_type": "code",
   "execution_count": null,
   "metadata": {},
   "outputs": [],
   "source": []
  },
  {
   "cell_type": "code",
   "execution_count": null,
   "metadata": {},
   "outputs": [],
   "source": []
  },
  {
   "cell_type": "code",
   "execution_count": null,
   "metadata": {},
   "outputs": [],
   "source": []
  },
  {
   "cell_type": "markdown",
   "metadata": {},
   "source": [
    "# PREVIOUS NON-FUNCTIONING ATTEMPTS\n"
   ]
  },
  {
   "cell_type": "code",
   "execution_count": null,
   "metadata": {},
   "outputs": [],
   "source": [
    "df = pd.DataFrame(data=data,columns=['Accept','Reject','Continue'], index=['Education','Skills','Experience', 'Referrals'])\n",
    "fig = plt.figure(num=None, figsize=(10, 10), dpi=80, facecolor='w', edgecolor='k')\n",
    "\n",
    "cmap = sns.cubehelix_palette(light=1, as_cmap=True)\n",
    "sns.set(font_scale=1.4)\n",
    "\n",
    "res = sns.heatmap(df, annot=True, vmin=0.0, vmax=1.0, \n",
    "                  fmt='.2f', cmap=cmap, cbar_kws={\"shrink\": .82},\n",
    "                  linewidths=0.1, linecolor='gray')\n",
    "\n",
    "res.invert_yaxis()\n",
    "\n",
    "\n",
    "plt.ylabel('States')\n",
    "plt.xlabel('Actions')\n",
    "# plt.show()"
   ]
  },
  {
   "cell_type": "code",
   "execution_count": 39,
   "metadata": {},
   "outputs": [
    {
     "data": {
      "image/png": "[encoded data removed]",
      "text/plain": [
       "<Figure size 800x800 with 2 Axes>"
      ]
     },
     "metadata": {},
     "output_type": "display_data"
    }
   ],
   "source": [
    "\n",
    "# data = np.array([[25.55,  1.99,  9.78],\n",
    "#  [ 4.95, 39.68, 16.78],\n",
    "#  [ 0.45,  0.10,  0.69],\n",
    "#  [ 0.45,  0.10,  0.69]])\n",
    "data = np.random.rand(4, 3)\n",
    "\n",
    "df = pd.DataFrame(data=data,columns=['Accept','Reject','Continue'], index=['Education','Skills','Experience', 'Referrals'])\n",
    "\n",
    "fig = plt.figure(num=None, figsize=(10, 10), dpi=80, facecolor='w', edgecolor='k')\n",
    "\n",
    "cmap = sns.cubehelix_palette(light=1, as_cmap=True)\n",
    "\n",
    "sns.set(font_scale=1.4)\n",
    "\n",
    "res = sns.heatmap(df, annot=True, vmin=0.0, vmax=5.0, \n",
    "                  fmt='.2f', cmap=cmap, cbar_kws={\"shrink\": .82},\n",
    "                  linewidths=0.1, linecolor='gray')\n",
    "\n",
    "res.invert_yaxis()\n",
    "\n",
    "plt.title('Seaborn heatmap - change font size')\n",
    "\n",
    "plt.savefig('seaborn_heatmap_ticklabels_font_size_04.png')              \n",
    "plt.show()"
   ]
  },
  {
   "cell_type": "code",
   "execution_count": null,
   "metadata": {},
   "outputs": [],
   "source": []
  },
  {
   "cell_type": "code",
   "execution_count": null,
   "metadata": {},
   "outputs": [],
   "source": []
  },
  {
   "cell_type": "code",
   "execution_count": null,
   "metadata": {},
   "outputs": [],
   "source": []
  },
  {
   "cell_type": "code",
   "execution_count": null,
   "metadata": {},
   "outputs": [],
   "source": []
  },
  {
   "cell_type": "code",
   "execution_count": null,
   "metadata": {},
   "outputs": [],
   "source": []
  },
  {
   "cell_type": "code",
   "execution_count": null,
   "metadata": {},
   "outputs": [],
   "source": []
  },
  {
   "cell_type": "code",
   "execution_count": null,
   "metadata": {},
   "outputs": [],
   "source": []
  },
  {
   "cell_type": "code",
   "execution_count": null,
   "metadata": {},
   "outputs": [],
   "source": [
    "from enum import Enum\n",
    "\n",
    "\n",
    "def action():\n",
    "    \"\"\"Models all possible actions.\"\"\"\n",
    "    up: int = 0\n",
    "    down: int = 1\n",
    "    right: int = 2\n",
    "    left: int = 3\n",
    "        \n",
    "def reward():\n",
    "    \"\"\"Models all possible rewards.\"\"\"\n",
    "    Hired: int = 1\n",
    "    Rejected: int = -1\n",
    "    start: int = 0\n",
    "    obstacle: int = -1 # Do I want to include an obstacle since it seems so many models involve an obstacle of some some\n",
    "    road: int = 0.3\n",
    "        \n",
    "        \n",
    "#Do I want to make this into a grid system even though there is a potential to jump to any other choice\n",
    "\n",
    "\n",
    "#Define all states\n",
    "def states():\n",
    "    states=[]\n",
    "    for i in range(3):\n",
    "        for j in range(4):\n",
    "                states.append((i,j))\n",
    "    print(states)\n",
    "#states()\n",
    "action()"
   ]
  },
  {
   "cell_type": "code",
   "execution_count": 35,
   "metadata": {},
   "outputs": [
    {
     "name": "stdout",
     "output_type": "stream",
     "text": [
      "0\n"
     ]
    }
   ],
   "source": [
    "#Define all states\n",
    "states=[]\n",
    "for i in range(2):\n",
    "    for j in range(2):\n",
    "            states.append((i,j))\n",
    "            \n",
    "start_state = states[0][0]\n",
    "\n",
    "#Define rewards for all states\n",
    "rewards = {}\n",
    "for i in states:\n",
    "  \n",
    "    #Hired state\n",
    "    if i == (1,4):\n",
    "        rewards[i] = 1\n",
    "    \n",
    "    #not hired state\n",
    "    elif i == (2,4):\n",
    "        rewards[i] = -1\n",
    "        \n",
    "    #all states arbitrary reward\n",
    "    else:\n",
    "        rewards[i] = 0.3\n",
    "\n",
    "#Dictionnary of possible actions. We have two \"end\" states (1,2 and 2,2)\n",
    "actions = {\n",
    "    (0,0):('D', 'R'), \n",
    "    (0,1):('D', 'R', 'L'),    \n",
    "    (0,2):('D', 'L', 'R'),\n",
    "    (0,3):('D', 'L'),\n",
    "    (1,0):('D', 'U', 'R'),\n",
    "    (1,1):('D', 'R', 'L', 'U'),\n",
    "    (1,3):('D', 'L', 'U'),\n",
    "    (2,0):('U', 'R'),\n",
    "    (2,1):('U', 'L', 'R'),\n",
    "    }\n",
    "\n",
    "action = {}\n",
    "for i in states:\n",
    "    if i == start_state:\n",
    "        action.append((i,j))\n",
    "        pass\n",
    "print(start_state)"
   ]
  },
  {
   "cell_type": "code",
   "execution_count": 36,
   "metadata": {
    "scrolled": true
   },
   "outputs": [
    {
     "name": "stdout",
     "output_type": "stream",
     "text": [
      "Simple Bias Modeling MDP Choice Game\n",
      "===========================================\n",
      "Instructions: Type A) or B) etc. whenever prompted\n",
      "\n",
      "You are choosing a candidate, what section do you examine first?\n",
      " A) Education\n",
      " B) Skills \n",
      "Enter A) or B):A)\n",
      "This candidate has a 2 year vocational degree!\n",
      "You find an exit from the forest, what do you do\n",
      " A) Exit forest\n",
      " B) Run around in forest \n",
      "Enter A) or B):B)\n",
      "You (although insanly) chose to run around in the forest\n"
     ]
    },
    {
     "ename": "NameError",
     "evalue": "name 'player_stillRunsinForest' is not defined",
     "output_type": "error",
     "traceback": [
      "\u001b[0;31m---------------------------------------------------------------------------\u001b[0m",
      "\u001b[0;31mNameError\u001b[0m                                 Traceback (most recent call last)",
      "\u001b[0;32m<ipython-input-36-d469463ee81c>\u001b[0m in \u001b[0;36m<module>\u001b[0;34m\u001b[0m\n\u001b[1;32m     35\u001b[0m     \u001b[0mprint\u001b[0m\u001b[0;34m(\u001b[0m\u001b[0;34m\"You get the idea...\"\u001b[0m\u001b[0;34m)\u001b[0m\u001b[0;34m\u001b[0m\u001b[0;34m\u001b[0m\u001b[0m\n\u001b[1;32m     36\u001b[0m \u001b[0;34m\u001b[0m\u001b[0m\n\u001b[0;32m---> 37\u001b[0;31m \u001b[0mmain\u001b[0m\u001b[0;34m(\u001b[0m\u001b[0;34m)\u001b[0m \u001b[0;31m#for testing on this online editor use the below line when calling the .py file on your computer\u001b[0m\u001b[0;34m\u001b[0m\u001b[0;34m\u001b[0m\u001b[0m\n\u001b[0m\u001b[1;32m     38\u001b[0m \u001b[0;32mif\u001b[0m \u001b[0m__name__\u001b[0m \u001b[0;34m==\u001b[0m \u001b[0;34m\"__main__\"\u001b[0m\u001b[0;34m:\u001b[0m\u001b[0mmain\u001b[0m\u001b[0;34m(\u001b[0m\u001b[0;34m)\u001b[0m\u001b[0;34m\u001b[0m\u001b[0;34m\u001b[0m\u001b[0m\n",
      "\u001b[0;32m<ipython-input-36-d469463ee81c>\u001b[0m in \u001b[0;36mmain\u001b[0;34m()\u001b[0m\n\u001b[1;32m      3\u001b[0m     \u001b[0mprint\u001b[0m\u001b[0;34m(\u001b[0m\u001b[0;34m\"===========================================\"\u001b[0m\u001b[0;34m)\u001b[0m\u001b[0;34m\u001b[0m\u001b[0;34m\u001b[0m\u001b[0m\n\u001b[1;32m      4\u001b[0m     \u001b[0mprint\u001b[0m\u001b[0;34m(\u001b[0m\u001b[0;34m\"Instructions: Type A) or B) etc. whenever prompted\\n\"\u001b[0m\u001b[0;34m)\u001b[0m\u001b[0;34m\u001b[0m\u001b[0;34m\u001b[0m\u001b[0m\n\u001b[0;32m----> 5\u001b[0;31m     \u001b[0mgame\u001b[0m\u001b[0;34m(\u001b[0m\u001b[0;34m)\u001b[0m\u001b[0;34m\u001b[0m\u001b[0;34m\u001b[0m\u001b[0m\n\u001b[0m\u001b[1;32m      6\u001b[0m \u001b[0;34m\u001b[0m\u001b[0m\n\u001b[1;32m      7\u001b[0m \u001b[0;32mdef\u001b[0m \u001b[0mgame\u001b[0m\u001b[0;34m(\u001b[0m\u001b[0;34m)\u001b[0m\u001b[0;34m:\u001b[0m\u001b[0;34m\u001b[0m\u001b[0;34m\u001b[0m\u001b[0m\n",
      "\u001b[0;32m<ipython-input-36-d469463ee81c>\u001b[0m in \u001b[0;36mgame\u001b[0;34m()\u001b[0m\n\u001b[1;32m     10\u001b[0m     \u001b[0;32mif\u001b[0m \u001b[0mAnswer\u001b[0m \u001b[0;34m==\u001b[0m \u001b[0;34m(\u001b[0m\u001b[0;34m\"A)\"\u001b[0m\u001b[0;34m)\u001b[0m\u001b[0;34m:\u001b[0m\u001b[0;34m\u001b[0m\u001b[0;34m\u001b[0m\u001b[0m\n\u001b[1;32m     11\u001b[0m         \u001b[0mprint\u001b[0m\u001b[0;34m(\u001b[0m\u001b[0;34m\"This candidate has a 2 year vocational degree!\"\u001b[0m\u001b[0;34m)\u001b[0m\u001b[0;34m\u001b[0m\u001b[0;34m\u001b[0m\u001b[0m\n\u001b[0;32m---> 12\u001b[0;31m         \u001b[0mpick_another\u001b[0m\u001b[0;34m(\u001b[0m\u001b[0;34m)\u001b[0m\u001b[0;34m\u001b[0m\u001b[0;34m\u001b[0m\u001b[0m\n\u001b[0m\u001b[1;32m     13\u001b[0m     \u001b[0;32melse\u001b[0m\u001b[0;34m:\u001b[0m\u001b[0;34m\u001b[0m\u001b[0;34m\u001b[0m\u001b[0m\n\u001b[1;32m     14\u001b[0m         \u001b[0mprint\u001b[0m\u001b[0;34m(\u001b[0m\u001b[0;34m\"Good choice, but the bear is running after you\"\u001b[0m\u001b[0;34m)\u001b[0m\u001b[0;34m\u001b[0m\u001b[0;34m\u001b[0m\u001b[0m\n",
      "\u001b[0;32m<ipython-input-36-d469463ee81c>\u001b[0m in \u001b[0;36mpick_another\u001b[0;34m()\u001b[0m\n\u001b[1;32m     30\u001b[0m     \u001b[0;32melse\u001b[0m\u001b[0;34m:\u001b[0m\u001b[0;34m\u001b[0m\u001b[0;34m\u001b[0m\u001b[0m\n\u001b[1;32m     31\u001b[0m         \u001b[0mprint\u001b[0m\u001b[0;34m(\u001b[0m\u001b[0;34m\"You (although insanly) chose to run around in the forest\"\u001b[0m\u001b[0;34m)\u001b[0m\u001b[0;34m\u001b[0m\u001b[0;34m\u001b[0m\u001b[0m\n\u001b[0;32m---> 32\u001b[0;31m         \u001b[0mplayer_stillRunsinForest\u001b[0m\u001b[0;34m(\u001b[0m\u001b[0;34m)\u001b[0m\u001b[0;34m\u001b[0m\u001b[0;34m\u001b[0m\u001b[0m\n\u001b[0m\u001b[1;32m     33\u001b[0m \u001b[0;34m\u001b[0m\u001b[0m\n\u001b[1;32m     34\u001b[0m \u001b[0;32mdef\u001b[0m \u001b[0mApplication_accepted\u001b[0m\u001b[0;34m(\u001b[0m\u001b[0;34m)\u001b[0m\u001b[0;34m:\u001b[0m\u001b[0;34m\u001b[0m\u001b[0;34m\u001b[0m\u001b[0m\n",
      "\u001b[0;31mNameError\u001b[0m: name 'player_stillRunsinForest' is not defined"
     ]
    }
   ],
   "source": [
    "def main():\n",
    "    print(\"Simple Bias Modeling MDP Choice Game\")\n",
    "    print(\"===========================================\")\n",
    "    print(\"Instructions: Type A) or B) etc. whenever prompted\\n\")\n",
    "    game()\n",
    "\n",
    "def game():\n",
    "    Answer = (input(\"You are choosing a candidate, what section do you examine first?\\n A) Education\\n B) Skills \\nEnter A) or B):\")) \n",
    "\n",
    "    if Answer == (\"A)\"): \n",
    "        print(\"This candidate has a 2 year vocational degree!\")\n",
    "        pick_another()\n",
    "    else: \n",
    "        print(\"Good choice, but the bear is running after you\")\n",
    "        Application_declined()\n",
    "\n",
    "def Application_declined():\n",
    "    print(\"You died, the bear eventually ate you...\")\n",
    "    Answer = (input(\"Game Over!\\n\\nEnter N) for New Game:\"))\n",
    "    if Answer == (\"N)\"): \n",
    "        main()\n",
    "    else: \n",
    "        print(\"Good Bye!\")\n",
    "\n",
    "def pick_another():\n",
    "    Answer = (input(\"You find an exit from the forest, what do you do\\n A) Exit forest\\n B) Run around in forest \\nEnter A) or B):\")) \n",
    "    if Answer == (\"A)\"): \n",
    "        print(\"You exited the forest\")\n",
    "        Application_accepted()\n",
    "    else: \n",
    "        print(\"You (although insanly) chose to run around in the forest\") \n",
    "        player_stillRunsinForest()\n",
    "\n",
    "def Application_accepted():\n",
    "    print(\"You get the idea...\")\n",
    "\n",
    "main() #for testing on this online editor use the below line when calling the .py file on your computer\n",
    "if __name__ == \"__main__\":main()"
   ]
  },
  {
   "cell_type": "code",
   "execution_count": null,
   "metadata": {},
   "outputs": [],
   "source": [
    "Education = 0 \n",
    "Skills = 0\n",
    "Experience =0\n",
    "Referrals = 0\n",
    "\n",
    "\n",
    "def main():\n",
    "    print(\"Simple Bias Modeling MDP Choice Game\")\n",
    "    print(\"===========================================\")\n",
    "    print(\"Follow Instructions when Prompted\\n\")\n",
    "    game()\n",
    "\n",
    "def game():\n",
    "    Answer = (input(\"You are choosing a candidate, what section do you examine first?\\n A) Education\\n B) Skills\\n C) Experience\\n D) Referrals \\nEnter A) B) C) or D):\")) \n",
    "\n",
    "    if Answer == (\"A\" or \"a\"): \n",
    "        print(\"This candidate has a 2 year vocational degree!\")\n",
    "      #  Education += 1\n",
    "        pick_another()\n",
    "        \n",
    "    elif Answer == (\"B\" or \"b\"): \n",
    "        print(\"This candidate has experience using the following skills: C, Python, SQL, GIT, React, Javascript\")\n",
    "   #     Skills += 0\n",
    "        pick_another()\n",
    "        \n",
    "    elif Answer == (\"C\" or \"c\"): \n",
    "        print(\"This candidate has the following work experience\")\n",
    "#         Experience += 1 \n",
    "        pick_another()\n",
    "        \n",
    "    elif Answer == (\"D\" or \"d\"): \n",
    "        print(\"These are the Candidate's Internal Referrals: Jane Doe\")\n",
    "#         Referrals =+ 1\n",
    "        pick_another()\n",
    "        \n",
    "    else: \n",
    "        print(\"Invalid Choice\")\n",
    "        application_declined()\n",
    "\n",
    "def application_declined():\n",
    "    print(\"Applicant Denied...\")\n",
    "    Answer = (input(\"Application Closed!\\n\\nEnter N) to examine a new Candidate:\"))\n",
    "    declined =+ 1\n",
    "    if Answer == (\"N)\"): \n",
    "        main()\n",
    "    else: \n",
    "        print(\"Applicantion Closed!\")\n",
    "\n",
    "def pick_another():\n",
    "    Answer = (input(\"You are satisfied with what you have seen thus far, Would you like to either:\\n A) Examine Another Section\\n B) Accept the Candidate's Application\\n C) Decline the Candidate's Application \\nEnter A or B or C:\")) \n",
    "    accepted =+ 1\n",
    "    game()\n",
    "    if Answer == (\"A\" or \"a\"): \n",
    "        print(\"You would like to examine the candidate further\")\n",
    "        game()\n",
    "    elif Answer == (\"B\" or \"b\"):  \n",
    "        print(\"You are satisfied with the candidate's qualifications\") \n",
    "        application_accepted()\n",
    "    elif Answer == (\"C\" or \"c\"): \n",
    "        print(\"You are NOT satisfied with the candidate's qualifications\") \n",
    "        application_declined()\n",
    "\n",
    "def application_accepted():\n",
    "    print(\"Applicantion Closed!\")\n",
    "    \n",
    "#     Answer = (input(\"Application Closed!\\n\\nEnter N) to examine a new Candidate:\"))\n",
    "#     continued =+ 1\n",
    "    \n",
    "#     if Answer == (\"N)\"): \n",
    "#         main()\n",
    "#     else: \n",
    "#         print(\"Applicantion Closed!\")\n",
    "        \n",
    "        \n",
    "\n",
    "\n",
    "main() #for testing on this online editor use the below line when calling the .py file on your computer\n",
    "if __name__ == \"__main__\":main()"
   ]
  },
  {
   "cell_type": "code",
   "execution_count": null,
   "metadata": {},
   "outputs": [],
   "source": [
    "education = 0\n",
    "edu_array = []\n",
    "skills = 0\n",
    "skill_array = []\n",
    "\n",
    "\n",
    "states = [[0],[0]]\n",
    "actions = [[0], [0], [0]]\n",
    "\n",
    "state_action = [[0,0,0], [0,0,0]] #2states x 3actions\n",
    "a = [[None]*3 for _ in range(2)]  #creates the same ndarray as above\n",
    "\n",
    "\n",
    "rows = 2\n",
    "cols = 3\n",
    "grid = [[0 for i in range(cols)] for i in range(rows)]\n",
    "\n",
    "\n",
    "print(\"Decision Modeling MDP Choice Game\")\n",
    "print(\"===========================================\")\n",
    "print(\"Follow the prompted Instructions\")\n",
    "    \n",
    "def mdp_game():\n",
    "    state = int( input(\"Please Select which state you would like to examine.\\n Press 1 and hit enter to choose Education.\\n Press 2 and hit enter to choose Skills\") )\n",
    "    if( state == 1 ):\n",
    "        print(\"You have selected Education\")\n",
    "        \n",
    "        print(\"\\nWhich action would you like to take?\")\n",
    "        print(\" A) Examine Another Section\\n B) Accept the Candidate's Application\\n C) Decline the Candidate's Application \\n\\nEnter A or B or C:\\n \")\n",
    "\n",
    "        action = input(\"Which action would you like to accomplish to the candidate's application? \\n A) Accept\\n B) Decline\\n C) Review\\n Enter A or B or C:\")\n",
    "\n",
    "        if( action == ('A') or action == ('a')):\n",
    "            print(\"You have chosen to accept the candidate's application\")\n",
    "            print(\"Accept\")\n",
    "            \n",
    "            grid[0][0] += 1\n",
    "\n",
    "        elif( action == (\"B\") or action == (\"b\") ):\n",
    "            print( \"You have chosen to decline the candidate's application\" )\n",
    "            print(\"Decline\")\n",
    "            \n",
    "            grid[0][1] += 1\n",
    "            \n",
    "        elif( action == (\"C\") or action == (\"c\") ):\n",
    "            print( \"You have chosen to continue viewing the candidate's application\" )\n",
    "            print(\"Continue\")\n",
    "            grid[0][2] += 1\n",
    "            \n",
    "        else:\n",
    "            print(\"Invalid choice!\")\n",
    "\n",
    "\n",
    "        print(\"StatesxActions Grid\", grid)\n",
    "        \n",
    "    elif( state == 2 ):\n",
    "        print( \"You have selected Skills\" )\n",
    "        \n",
    "        #Tracking states\n",
    "        for index, element in enumerate(states):\n",
    "            if( index == 1): #index of df holding the value of incremented element\n",
    "                print(element)\n",
    "                element[0] += 1\n",
    "                print(\"incremented skills\", element)\n",
    "        \n",
    "#         action()\n",
    "\n",
    "    else:\n",
    "        print(\"Invalid choice!\")        \n",
    "\n",
    "\n",
    "def action():\n",
    "    print(\"\\nWhich action would you like to take?\")\n",
    "    print(\" A) Examine Another Section\\n B) Accept the Candidate's Application\\n C) Decline the Candidate's Application \\n\\nEnter A or B or C:\\n \")\n",
    "    \n",
    "    action = input(\"Which action would you like to accomplish to the candidate's application? \\n A) Accept\\n B) Decline\\n C) Review\\n Enter A or B or C:\")\n",
    "\n",
    "    if( action == ('A') or action == ('a')):\n",
    "        print(\"You have chosen to accept the candidate's application\")\n",
    "        print(\"Accept\")\n",
    "        \n",
    "#         #Tracking actions\n",
    "#         for index, element in enumerate(actions):\n",
    "#             if( index == 0): #index of df holding the value of incremented element\n",
    "#                 print(element) #Value before inc\n",
    "#                 element[0] += 1\n",
    "#                 print(\"incremented accept\", element)\n",
    "        \n",
    "    elif( action == (\"B\") or action == (\"b\") ):\n",
    "        print( \"You have chosen to decline the candidate's application\" )\n",
    "        print(\"Decline\")\n",
    "        \n",
    "#         #Tracking actions\n",
    "#         for index, element in enumerate(actions):\n",
    "#             if( index == 1): #index of df holding the value of incremented element\n",
    "#                 print(element) #Value before inc\n",
    "#                 element[0] += 1\n",
    "#                 print(\"incremented decline\", element)\n",
    "        \n",
    "    elif( action == (\"C\") or action == (\"c\") ):\n",
    "        print( \"You have chosen to continue viewing the candidate's application\" )\n",
    "        print(\"Continue\")\n",
    "        \n",
    "        #Tracking actions\n",
    "#         for index, element in enumerate(actions):\n",
    "#             if( index == 2): #index of df holding the value of incremented element\n",
    "#                 print(element) #Value before inc\n",
    "#                 element[0] += 1\n",
    "#                 print(\"incremented continue\", element)\n",
    "        \n",
    "    else:\n",
    "        print(\"Invalid choice!\")\n",
    "\n",
    "\n",
    "while True:\n",
    "        mdp_game()\n",
    "        restart = input('do you want to restart Y/N?')\n",
    "        if restart == 'N' or restart == 'n':\n",
    "            print(\"GAME OVER\")\n",
    "            break\n",
    "        elif restart == 'Y' or restart == 'y':\n",
    "            print(\"NEW GAME\")\n",
    "            mdp_game()\n",
    "# values = np.array([[education],[skills]])\n",
    "# df = pd.DataFrame(data = values, columns=['Accept','Reject','Review'], index=[\"Education\", \"Skills\"])\n",
    "# print(df)"
   ]
  }
 ],
 "metadata": {
  "kernelspec": {
   "display_name": "Python 3",
   "language": "python",
   "name": "python3"
  },
  "language_info": {
   "codemirror_mode": {
    "name": "ipython",
    "version": 3
   },
   "file_extension": ".py",
   "mimetype": "text/x-python",
   "name": "python",
   "nbconvert_exporter": "python",
   "pygments_lexer": "ipython3",
   "version": "3.6.7"
  }
 },
 "nbformat": 4,
 "nbformat_minor": 2
}
